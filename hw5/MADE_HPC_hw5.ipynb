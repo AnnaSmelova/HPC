{
 "cells": [
  {
   "cell_type": "markdown",
   "id": "5fd0fcb8",
   "metadata": {},
   "source": [
    "## Домашнее задание №5: ДЗ-5\n",
    "\n",
    "### 1. Знакомство в компании\n",
    "Представим, что процессы – это компания незнакомых людей, которые знакомятся с помощью следующей игры:<br>\n",
    "1. Начинает процессор 0. Случайным образом он выбирает другой процессор i и посылает ему сообщение со своим именем (можете случайным образом задавать имя)\n",
    "2. Процессор i отсылает сообщение случайному процессору j (которые еще не участвовал в игре), в сообщении – все имена и ранги предыдущих процессоров в правильном порядке. Номер процессора j знает только I, так что все должны быть начеку.\n",
    "3. Игра заканчивается через N ходов. Используйте синхронную пересылку MPI_SSend\n",
    "Напишите программу используя MPI.<br>\n",
    "\n",
    "### 2. Параллельный одномерный клеточный автомат.\n",
    "С помощью MPI распараллельте одномерный клеточный автомат Вольфрама (Rule110).<br>\n",
    "Игра происходит следующим образом:<br>\n",
    "1. Инициализируйте одномерный массив 0 и 1 случайным образом\n",
    "2. В зависимости от значений: левого соседа, себя, правого соседа на следующем шаге клетка либо меняет значение, либо остается той же. Посмотрите, например, что значит <a href='https://en.wikipedia.org/wiki/Rule_110'>Rule110</a><br>\n",
    "* Сделайте периодические и непериодические граничные условия\n",
    "* Работает параллельный код на нескольких процессах \n",
    "* Имплементированы клетки-призраки (ghost cells) \n",
    "* Можно поменять правило игры (сделать одно из 256) \n",
    "* График ускорения работы программы от кол-ва процессов\n",
    "* Картинка эволюции для одного правила"
   ]
  },
  {
   "cell_type": "code",
   "execution_count": 1,
   "id": "3492c39e",
   "metadata": {},
   "outputs": [],
   "source": [
    "import task1\n",
    "import task2"
   ]
  },
  {
   "cell_type": "markdown",
   "id": "a1c79b73",
   "metadata": {},
   "source": [
    "### 1. Знакомство в компании\n",
    "Реализация в файле task1.py."
   ]
  },
  {
   "cell_type": "code",
   "execution_count": 2,
   "id": "ab3ed99b",
   "metadata": {},
   "outputs": [],
   "source": [
    "!chmod +x task1.py"
   ]
  },
  {
   "cell_type": "code",
   "execution_count": 3,
   "id": "77ed3afa",
   "metadata": {},
   "outputs": [
    {
     "name": "stdout",
     "output_type": "stream",
     "text": [
      "dueryngi_1 say hello to orljkuas_4\n",
      "caponhxi_0 say hello to dueryngi_1\n",
      "ctyawjpw_8 say hello to zrfwljev_6\n",
      "wfqvfaaj_7 say hello to zdttgpbc_2\n",
      "zrfwljev_6 say hello to wfqvfaaj_7\n",
      "tfbhggqq_9 say hello to fctullwq_5\n",
      "orljkuas_4 say hello to ctyawjpw_8\n",
      "zdttgpbc_2 say hello to tfbhggqq_9\n",
      "fctullwq_5 say hello to ucpgetix_3\n",
      "\n",
      "caponhxi_0 dueryngi_1 orljkuas_4 ctyawjpw_8 zrfwljev_6 wfqvfaaj_7 zdttgpbc_2 tfbhggqq_9 fctullwq_5 ucpgetix_3\n"
     ]
    }
   ],
   "source": [
    "!mpiexec -n 10 ./task1.py"
   ]
  },
  {
   "cell_type": "markdown",
   "id": "3812e769",
   "metadata": {},
   "source": [
    "### 2. Параллельный одномерный клеточный автомат.\n",
    "Реализация в файле task2.py<br>\n",
    "Seed зафиксировала для того, чтобы можно было посмотреть на разницу правил и оценить ускорение.<br>\n",
    "black ▣ = 0<br>\n",
    "white ▢ = 1"
   ]
  },
  {
   "cell_type": "code",
   "execution_count": 4,
   "id": "7e0b1848",
   "metadata": {},
   "outputs": [],
   "source": [
    "!chmod +x task2.py"
   ]
  },
  {
   "cell_type": "markdown",
   "id": "79e1799e",
   "metadata": {},
   "source": [
    "#### Rule 110 + periodic"
   ]
  },
  {
   "cell_type": "code",
   "execution_count": 5,
   "id": "180cdedd",
   "metadata": {},
   "outputs": [
    {
     "name": "stdout",
     "output_type": "stream",
     "text": [
      "▢▢▣▢▢▢▢▢▢▢▣▣▢▢▣▢▢▢▢▢▢▢▣▣▢▢▣▢▢▢▢▢▢▢▣▣▢▢▣▢▢▢▢▢▢▢▣▣▢▢▣▢▢▢▢▢▢▢▣▣\r\n",
      "▢▢▢▢▣▣▣▣▣▢▣▢▢▢▢▢▣▣▣▣▣▢▣▢▢▢▢▢▣▣▣▣▣▢▣▢▢▢▢▢▣▣▣▣▣▢▣▢▢▢▢▢▣▣▣▣▣▢▣▢\r\n",
      "▣▣▣▢▣▣▣▣▢▢▢▢▣▣▣▢▣▣▣▣▢▢▢▢▣▣▣▢▣▣▣▣▢▢▢▢▣▣▣▢▣▣▣▣▢▢▢▢▣▣▣▢▣▣▣▣▢▢▢▢\r\n",
      "▣▣▢▢▣▣▣▢▢▣▣▢▣▣▢▢▣▣▣▢▢▣▣▢▣▣▢▢▣▣▣▢▢▣▣▢▣▣▢▢▣▣▣▢▢▣▣▢▣▣▢▢▣▣▣▢▢▣▣▢\r\n",
      "▣▢▢▢▣▣▢▢▢▣▢▢▣▢▢▢▣▣▢▢▢▣▢▢▣▢▢▢▣▣▢▢▢▣▢▢▣▢▢▢▣▣▢▢▢▣▢▢▣▢▢▢▣▣▢▢▢▣▢▢\r\n",
      "▢▢▣▢▣▢▢▣▢▢▢▢▢▢▣▢▣▢▢▣▢▢▢▢▢▢▣▢▣▢▢▣▢▢▢▢▢▢▣▢▣▢▢▣▢▢▢▢▢▢▣▢▣▢▢▣▢▢▢▢\r\n",
      "▣▢▢▢▢▢▢▢▢▣▣▣▣▢▢▢▢▢▢▢▢▣▣▣▣▢▢▢▢▢▢▢▢▣▣▣▣▢▢▢▢▢▢▢▢▣▣▣▣▢▢▢▢▢▢▢▢▣▣▣\r\n",
      "▢▢▣▣▣▣▣▣▢▣▣▣▢▢▣▣▣▣▣▣▢▣▣▣▢▢▣▣▣▣▣▣▢▣▣▣▢▢▣▣▣▣▣▣▢▣▣▣▢▢▣▣▣▣▣▣▢▣▣▣\r\n",
      "▢▢▣▣▣▣▣▢▢▣▣▢▢▢▣▣▣▣▣▢▢▣▣▢▢▢▣▣▣▣▣▢▢▣▣▢▢▢▣▣▣▣▣▢▢▣▣▢▢▢▣▣▣▣▣▢▢▣▣▢\r\n",
      "▣▢▣▣▣▣▢▢▢▣▢▢▣▢▣▣▣▣▢▢▢▣▢▢▣▢▣▣▣▣▢▢▢▣▢▢▣▢▣▣▣▣▢▢▢▣▢▢▣▢▣▣▣▣▢▢▢▣▢▢\r\n",
      "▢▢▣▣▣▢▢▣▢▢▢▢▢▢▣▣▣▢▢▣▢▢▢▢▢▢▣▣▣▢▢▣▢▢▢▢▢▢▣▣▣▢▢▣▢▢▢▢▢▢▣▣▣▢▢▣▢▢▢▢\r\n",
      "World size = 5, time elapsed = 0.023426502011716366\r\n"
     ]
    }
   ],
   "source": [
    "!mpiexec -n 5 ./task2.py --steps 10 --size 60 --rule 110 --periodic --print_pic "
   ]
  },
  {
   "cell_type": "markdown",
   "id": "1a68db33",
   "metadata": {},
   "source": [
    "#### Rule 110 + without periodic"
   ]
  },
  {
   "cell_type": "code",
   "execution_count": 6,
   "id": "206899c6",
   "metadata": {},
   "outputs": [
    {
     "name": "stdout",
     "output_type": "stream",
     "text": [
      "▢▢▣▢▢▢▢▢▢▢▣▣▢▢▣▢▢▢▢▢▢▢▣▣▢▢▣▢▢▢▢▢▢▢▣▣▢▢▣▢▢▢▢▢▢▢▣▣▢▢▣▢▢▢▢▢▢▢▣▣\r\n",
      "▢▢▢▢▣▣▣▣▣▢▣▢▢▢▢▢▣▣▣▣▣▢▣▢▢▢▢▢▣▣▣▣▣▢▣▢▢▢▢▢▣▣▣▣▣▢▣▢▢▢▢▢▣▣▣▣▣▢▣▢\r\n",
      "▢▣▣▢▣▣▣▣▢▢▢▢▣▣▣▢▣▣▣▣▢▢▢▢▣▣▣▢▣▣▣▣▢▢▢▢▣▣▣▢▣▣▣▣▢▢▢▢▣▣▣▢▣▣▣▣▢▢▢▢\r\n",
      "▢▣▢▢▣▣▣▢▢▣▣▢▣▣▢▢▣▣▣▢▢▣▣▢▣▣▢▢▣▣▣▢▢▣▣▢▣▣▢▢▣▣▣▢▢▣▣▢▣▣▢▢▣▣▣▢▢▣▣▣\r\n",
      "▢▢▢▢▣▣▢▢▢▣▢▢▣▢▢▢▣▣▢▢▢▣▢▢▣▢▢▢▣▣▢▢▢▣▢▢▣▢▢▢▣▣▢▢▢▣▢▢▣▢▢▢▣▣▢▢▢▣▣▢\r\n",
      "▢▣▣▢▣▢▢▣▢▢▢▢▢▢▣▢▣▢▢▣▢▢▢▢▢▢▣▢▣▢▢▣▢▢▢▢▢▢▣▢▣▢▢▣▢▢▢▢▢▢▣▢▣▢▢▣▢▣▢▢\r\n",
      "▢▣▢▢▢▢▢▢▢▣▣▣▣▢▢▢▢▢▢▢▢▣▣▣▣▢▢▢▢▢▢▢▢▣▣▣▣▢▢▢▢▢▢▢▢▣▣▣▣▢▢▢▢▢▢▢▢▢▢▣\r\n",
      "▢▢▢▣▣▣▣▣▢▣▣▣▢▢▣▣▣▣▣▣▢▣▣▣▢▢▣▣▣▣▣▣▢▣▣▣▢▢▣▣▣▣▣▣▢▣▣▣▢▢▣▣▣▣▣▣▣▣▢▢\r\n",
      "▢▣▢▣▣▣▣▢▢▣▣▢▢▢▣▣▣▣▣▢▢▣▣▢▢▢▣▣▣▣▣▢▢▣▣▢▢▢▣▣▣▣▣▢▢▣▣▢▢▢▣▣▣▣▣▣▣▢▢▣\r\n",
      "▢▢▢▣▣▣▢▢▢▣▢▢▣▢▣▣▣▣▢▢▢▣▢▢▣▢▣▣▣▣▢▢▢▣▢▢▣▢▣▣▣▣▢▢▢▣▢▢▣▢▣▣▣▣▣▣▢▢▢▢\r\n",
      "▢▣▢▣▣▢▢▣▢▢▢▢▢▢▣▣▣▢▢▣▢▢▢▢▢▢▣▣▣▢▢▣▢▢▢▢▢▢▣▣▣▢▢▣▢▢▢▢▢▢▣▣▣▣▣▢▢▣▣▣\r\n",
      "World size = 5, time elapsed = 0.005466368980705738\r\n"
     ]
    }
   ],
   "source": [
    "!mpiexec -n 5 ./task2.py --steps 10 --size 60 --rule 110 --print_pic "
   ]
  },
  {
   "cell_type": "markdown",
   "id": "9f71e62a",
   "metadata": {},
   "source": [
    "#### Rule 137"
   ]
  },
  {
   "cell_type": "code",
   "execution_count": 7,
   "id": "e80cb088",
   "metadata": {},
   "outputs": [
    {
     "name": "stdout",
     "output_type": "stream",
     "text": [
      "▢▢▣▢▢▢▢▢▢▢▣▣▢▢▣▢▢▢▢▢▢▢▣▣▢▢▣▢▢▢▢▢▢▢▣▣▢▢▣▢▢▢▢▢▢▢▣▣▢▢▣▢▢▢▢▢▢▢▣▣\r\n",
      "▢▣▣▢▢▢▢▢▢▣▣▣▢▣▣▢▢▢▢▢▢▣▣▣▢▣▣▢▢▢▢▢▢▣▣▣▢▣▣▢▢▢▢▢▢▣▣▣▢▣▣▢▢▢▢▢▢▣▣▣\r\n",
      "▣▣▣▢▢▢▢▢▣▣▢▣▣▣▣▢▢▢▢▢▣▣▢▣▣▣▣▢▢▢▢▢▣▣▢▣▣▣▣▢▢▢▢▢▣▣▢▣▣▣▣▢▢▢▢▢▣▣▢▣\r\n",
      "▢▢▣▢▢▢▢▣▣▣▣▣▢▢▣▢▢▢▢▣▣▣▣▣▢▢▣▢▢▢▢▣▣▣▣▣▢▢▣▢▢▢▢▣▣▣▣▣▢▢▣▢▢▢▢▣▣▣▣▣\r\n",
      "▢▣▣▢▢▢▣▣▢▢▢▣▢▣▣▢▢▢▣▣▢▢▢▣▢▣▣▢▢▢▣▣▢▢▢▣▢▣▣▢▢▢▣▣▢▢▢▣▢▣▣▢▢▢▣▣▢▢▢▣\r\n",
      "▣▣▣▢▢▣▣▣▢▢▣▣▣▣▣▢▢▣▣▣▢▢▣▣▣▣▣▢▢▣▣▣▢▢▣▣▣▣▣▢▢▣▣▣▢▢▣▣▣▣▣▢▢▣▣▣▢▢▣▣\r\n",
      "▢▢▣▢▣▣▢▣▢▣▣▢▢▢▣▢▣▣▢▣▢▣▣▢▢▢▣▢▣▣▢▣▢▣▣▢▢▢▣▢▣▣▢▣▢▣▣▢▢▢▣▢▣▣▢▣▢▣▣▢\r\n",
      "▢▣▣▣▣▣▣▣▣▣▣▢▢▣▣▣▣▣▣▣▣▣▣▢▢▣▣▣▣▣▣▣▣▣▣▢▢▣▣▣▣▣▣▣▣▣▣▢▢▣▣▣▣▣▣▣▣▣▣▢\r\n",
      "▣▣▢▢▢▢▢▢▢▢▣▢▣▣▢▢▢▢▢▢▢▢▣▢▣▣▢▢▢▢▢▢▢▢▣▢▣▣▢▢▢▢▢▢▢▢▣▢▣▣▢▢▢▢▢▢▢▢▣▢\r\n",
      "▣▣▢▢▢▢▢▢▢▣▣▣▣▣▢▢▢▢▢▢▢▣▣▣▣▣▢▢▢▢▢▢▢▣▣▣▣▣▢▢▢▢▢▢▢▣▣▣▣▣▢▢▢▢▢▢▢▣▣▣\r\n",
      "▢▣▢▢▢▢▢▢▣▣▢▢▢▣▢▢▢▢▢▢▣▣▢▢▢▣▢▢▢▢▢▢▣▣▢▢▢▣▢▢▢▢▢▢▣▣▢▢▢▣▢▢▢▢▢▢▣▣▢▢\r\n",
      "World size = 5, time elapsed = 0.025706268963404\r\n"
     ]
    }
   ],
   "source": [
    "!mpiexec -n 5 ./task2.py --steps 10 --size 60 --rule 137 --periodic --print_pic "
   ]
  },
  {
   "cell_type": "markdown",
   "id": "8ab666cd",
   "metadata": {},
   "source": [
    "#### Rule 118"
   ]
  },
  {
   "cell_type": "code",
   "execution_count": 8,
   "id": "fef5482e",
   "metadata": {},
   "outputs": [
    {
     "name": "stdout",
     "output_type": "stream",
     "text": [
      "▢▢▣▢▢▢▢▢▢▢▣▣▢▢▣▢▢▢▢▢▢▢▣▣▢▢▣▢▢▢▢▢▢▢▣▣▢▢▣▢▢▢▢▢▢▢▣▣▢▢▣▢▢▢▢▢▢▢▣▣\r\n",
      "▣▢▢▣▣▣▣▣▣▢▢▢▣▢▢▣▣▣▣▣▣▢▢▢▣▢▢▣▣▣▣▣▣▢▢▢▣▢▢▣▣▣▣▣▣▢▢▢▣▢▢▣▣▣▣▣▣▢▢▢\r\n",
      "▢▣▢▢▣▣▣▣▢▣▣▢▢▣▢▢▣▣▣▣▢▣▣▢▢▣▢▢▣▣▣▣▢▣▣▢▢▣▢▢▣▣▣▣▢▣▣▢▢▣▢▢▣▣▣▣▢▣▣▢\r\n",
      "▢▢▣▢▢▣▣▢▢▢▢▣▢▢▣▢▢▣▣▢▢▢▢▣▢▢▣▢▢▣▣▢▢▢▢▣▢▢▣▢▢▣▣▢▢▢▢▣▢▢▣▢▢▣▣▢▢▢▢▣\r\n",
      "▣▢▢▣▢▢▢▣▣▣▢▢▣▢▢▣▢▢▢▣▣▣▢▢▣▢▢▣▢▢▢▣▣▣▢▢▣▢▢▣▢▢▢▣▣▣▢▢▣▢▢▣▢▢▢▣▣▣▢▢\r\n",
      "▢▣▢▢▣▣▢▢▣▢▣▢▢▣▢▢▣▣▢▢▣▢▣▢▢▣▢▢▣▣▢▢▣▢▣▢▢▣▢▢▣▣▢▢▣▢▣▢▢▣▢▢▣▣▢▢▣▢▣▢\r\n",
      "▢▢▣▢▢▢▣▢▢▢▢▣▢▢▣▢▢▢▣▢▢▢▢▣▢▢▣▢▢▢▣▢▢▢▢▣▢▢▣▢▢▢▣▢▢▢▢▣▢▢▣▢▢▢▣▢▢▢▢▣\r\n",
      "▣▢▢▣▣▢▢▣▣▣▢▢▣▢▢▣▣▢▢▣▣▣▢▢▣▢▢▣▣▢▢▣▣▣▢▢▣▢▢▣▣▢▢▣▣▣▢▢▣▢▢▣▣▢▢▣▣▣▢▢\r\n",
      "▢▣▢▢▢▣▢▢▣▢▣▢▢▣▢▢▢▣▢▢▣▢▣▢▢▣▢▢▢▣▢▢▣▢▣▢▢▣▢▢▢▣▢▢▣▢▣▢▢▣▢▢▢▣▢▢▣▢▣▢\r\n",
      "▢▢▣▣▢▢▣▢▢▢▢▣▢▢▣▣▢▢▣▢▢▢▢▣▢▢▣▣▢▢▣▢▢▢▢▣▢▢▣▣▢▢▣▢▢▢▢▣▢▢▣▣▢▢▣▢▢▢▢▣\r\n",
      "▣▢▢▢▣▢▢▣▣▣▢▢▣▢▢▢▣▢▢▣▣▣▢▢▣▢▢▢▣▢▢▣▣▣▢▢▣▢▢▢▣▢▢▣▣▣▢▢▣▢▢▢▣▢▢▣▣▣▢▢\r\n",
      "World size = 5, time elapsed = 0.021288624964654446\r\n"
     ]
    }
   ],
   "source": [
    "!mpiexec -n 5 ./task2.py --steps 10 --size 60 --rule 118 --periodic --print_pic "
   ]
  },
  {
   "cell_type": "markdown",
   "id": "7cad49a7",
   "metadata": {},
   "source": [
    "#### Rule 110 + n=1,...,6"
   ]
  },
  {
   "cell_type": "code",
   "execution_count": 9,
   "id": "2551b668",
   "metadata": {},
   "outputs": [
    {
     "name": "stdout",
     "output_type": "stream",
     "text": [
      "World size = 1, time elapsed = 0.3188521349802613\n",
      "World size = 2, time elapsed = 0.2632347449543886\n",
      "World size = 3, time elapsed = 0.26406369503820315\n",
      "World size = 4, time elapsed = 0.28734566300408915\n",
      "World size = 5, time elapsed = 0.7202114399988204\n",
      "World size = 6, time elapsed = 1.5471883610007353\n"
     ]
    }
   ],
   "source": [
    "!mpiexec -n 1 ./task2.py --steps 1000 --size 600 --rule 110 --periodic  \n",
    "!mpiexec -n 2 ./task2.py --steps 1000 --size 600 --rule 110 --periodic  \n",
    "!mpiexec -n 3 ./task2.py --steps 1000 --size 600 --rule 110 --periodic  \n",
    "!mpiexec -n 4 ./task2.py --steps 1000 --size 600 --rule 110 --periodic  \n",
    "!mpiexec -n 5 ./task2.py --steps 1000 --size 600 --rule 110 --periodic \n",
    "!mpiexec -n 6 ./task2.py --steps 1000 --size 600 --rule 110 --periodic"
   ]
  },
  {
   "cell_type": "markdown",
   "id": "848d61e5",
   "metadata": {},
   "source": [
    "Ускорение не прослеживается."
   ]
  },
  {
   "cell_type": "code",
   "execution_count": 11,
   "id": "ffec613b",
   "metadata": {},
   "outputs": [
    {
     "data": {
      "image/png": "[encoded data removed]",
      "text/plain": [
       "<Figure size 640x480 with 1 Axes>"
      ]
     },
     "metadata": {},
     "output_type": "display_data"
    }
   ],
   "source": [
    "import matplotlib.pyplot as plt\n",
    "import numpy as np\n",
    "\n",
    "times = [0.3188521349802613, 0.2632347449543886, 0.26406369503820315, 0.28734566300408915, 0.7202114399988204, 1.5471883610007353]\n",
    "\n",
    "fig = plt.figure()\n",
    "ax = fig.add_subplot(111)\n",
    "plt.plot(np.arange(1,7), times)\n",
    "plt.ylabel('Time elapsed')\n",
    "plt.xlabel('World size')\n",
    "plt.show()"
   ]
  },
  {
   "cell_type": "code",
   "execution_count": null,
   "id": "ac1254b3",
   "metadata": {},
   "outputs": [],
   "source": []
  }
 ],
 "metadata": {
  "kernelspec": {
   "display_name": "Python 3 (ipykernel)",
   "language": "python",
   "name": "python3"
  },
  "language_info": {
   "codemirror_mode": {
    "name": "ipython",
    "version": 3
   },
   "file_extension": ".py",
   "mimetype": "text/x-python",
   "name": "python",
   "nbconvert_exporter": "python",
   "pygments_lexer": "ipython3",
   "version": "3.10.4"
  }
 },
 "nbformat": 4,
 "nbformat_minor": 5
}
