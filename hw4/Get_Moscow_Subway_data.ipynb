{
 "cells": [
  {
   "cell_type": "markdown",
   "id": "5730ff5c",
   "metadata": {},
   "source": [
    "Данные по станциям метро взяла отсюда: <br>\n",
    "<a href='https://gist.github.com/altsoph/56c38e76bae853655b962979346d194e'>routes_data</a><br>\n",
    "<a href='https://gist.github.com/altsoph/6d3bfc97e26a4614d07fa74657739163'>stations_data</a>"
   ]
  },
  {
   "cell_type": "code",
   "execution_count": 1,
   "id": "bfb56f46",
   "metadata": {},
   "outputs": [],
   "source": [
    "import pandas as pd\n",
    "import numpy as np\n",
    "import matplotlib.pyplot as plt\n",
    "import networkx as nx\n",
    "from typing import Dict, List\n",
    "\n",
    "import warnings\n",
    "warnings.filterwarnings('ignore')\n",
    "\n",
    "%matplotlib inline"
   ]
  },
  {
   "cell_type": "code",
   "execution_count": 2,
   "id": "b0721116",
   "metadata": {},
   "outputs": [
    {
     "data": {
      "text/plain": [
       "(194, 9)"
      ]
     },
     "execution_count": 2,
     "metadata": {},
     "output_type": "execute_result"
    }
   ],
   "source": [
    "STATIONS = 'data/stations_data.tsv'\n",
    "\n",
    "stations_base = pd.read_csv(STATIONS, sep='\\t')\n",
    "stations = stations_base.copy()\n",
    "stations.shape"
   ]
  },
  {
   "cell_type": "code",
   "execution_count": 3,
   "id": "6bfd1355",
   "metadata": {},
   "outputs": [
    {
     "data": {
      "text/html": [
       "<div>\n",
       "<style scoped>\n",
       "    .dataframe tbody tr th:only-of-type {\n",
       "        vertical-align: middle;\n",
       "    }\n",
       "\n",
       "    .dataframe tbody tr th {\n",
       "        vertical-align: top;\n",
       "    }\n",
       "\n",
       "    .dataframe thead th {\n",
       "        text-align: right;\n",
       "    }\n",
       "</style>\n",
       "<table border=\"1\" class=\"dataframe\">\n",
       "  <thead>\n",
       "    <tr style=\"text-align: right;\">\n",
       "      <th></th>\n",
       "      <th>id</th>\n",
       "      <th>line_name</th>\n",
       "      <th>station_name</th>\n",
       "      <th>station_type</th>\n",
       "      <th>delay_morning</th>\n",
       "      <th>delay_rush</th>\n",
       "      <th>delay_night</th>\n",
       "      <th>lat</th>\n",
       "      <th>lon</th>\n",
       "    </tr>\n",
       "  </thead>\n",
       "  <tbody>\n",
       "    <tr>\n",
       "      <th>0</th>\n",
       "      <td>0</td>\n",
       "      <td>Сокольническая</td>\n",
       "      <td>Бульвар Рокоссовского</td>\n",
       "      <td>deadend</td>\n",
       "      <td>120</td>\n",
       "      <td>90</td>\n",
       "      <td>360</td>\n",
       "      <td>55.814269</td>\n",
       "      <td>37.735117</td>\n",
       "    </tr>\n",
       "    <tr>\n",
       "      <th>1</th>\n",
       "      <td>1</td>\n",
       "      <td>Сокольническая</td>\n",
       "      <td>Черкизовская</td>\n",
       "      <td>pass</td>\n",
       "      <td>120</td>\n",
       "      <td>90</td>\n",
       "      <td>360</td>\n",
       "      <td>55.802991</td>\n",
       "      <td>37.744825</td>\n",
       "    </tr>\n",
       "    <tr>\n",
       "      <th>2</th>\n",
       "      <td>2</td>\n",
       "      <td>Сокольническая</td>\n",
       "      <td>Преображенская площадь</td>\n",
       "      <td>pass</td>\n",
       "      <td>120</td>\n",
       "      <td>90</td>\n",
       "      <td>360</td>\n",
       "      <td>55.796172</td>\n",
       "      <td>37.715022</td>\n",
       "    </tr>\n",
       "    <tr>\n",
       "      <th>3</th>\n",
       "      <td>3</td>\n",
       "      <td>Сокольническая</td>\n",
       "      <td>Сокольники</td>\n",
       "      <td>pass</td>\n",
       "      <td>120</td>\n",
       "      <td>90</td>\n",
       "      <td>360</td>\n",
       "      <td>55.789200</td>\n",
       "      <td>37.679706</td>\n",
       "    </tr>\n",
       "    <tr>\n",
       "      <th>4</th>\n",
       "      <td>4</td>\n",
       "      <td>Сокольническая</td>\n",
       "      <td>Красносельская</td>\n",
       "      <td>pass</td>\n",
       "      <td>120</td>\n",
       "      <td>90</td>\n",
       "      <td>360</td>\n",
       "      <td>55.779853</td>\n",
       "      <td>37.666077</td>\n",
       "    </tr>\n",
       "  </tbody>\n",
       "</table>\n",
       "</div>"
      ],
      "text/plain": [
       "   id       line_name            station_name station_type  delay_morning  \\\n",
       "0   0  Сокольническая   Бульвар Рокоссовского      deadend            120   \n",
       "1   1  Сокольническая            Черкизовская         pass            120   \n",
       "2   2  Сокольническая  Преображенская площадь         pass            120   \n",
       "3   3  Сокольническая              Сокольники         pass            120   \n",
       "4   4  Сокольническая          Красносельская         pass            120   \n",
       "\n",
       "   delay_rush  delay_night        lat        lon  \n",
       "0          90          360  55.814269  37.735117  \n",
       "1          90          360  55.802991  37.744825  \n",
       "2          90          360  55.796172  37.715022  \n",
       "3          90          360  55.789200  37.679706  \n",
       "4          90          360  55.779853  37.666077  "
      ]
     },
     "execution_count": 3,
     "metadata": {},
     "output_type": "execute_result"
    }
   ],
   "source": [
    "stations.head()"
   ]
  },
  {
   "cell_type": "code",
   "execution_count": 4,
   "id": "0689517c",
   "metadata": {},
   "outputs": [
    {
     "data": {
      "text/html": [
       "<div>\n",
       "<style scoped>\n",
       "    .dataframe tbody tr th:only-of-type {\n",
       "        vertical-align: middle;\n",
       "    }\n",
       "\n",
       "    .dataframe tbody tr th {\n",
       "        vertical-align: top;\n",
       "    }\n",
       "\n",
       "    .dataframe thead th {\n",
       "        text-align: right;\n",
       "    }\n",
       "</style>\n",
       "<table border=\"1\" class=\"dataframe\">\n",
       "  <thead>\n",
       "    <tr style=\"text-align: right;\">\n",
       "      <th></th>\n",
       "      <th>id</th>\n",
       "      <th>station_name</th>\n",
       "      <th>line_name</th>\n",
       "    </tr>\n",
       "  </thead>\n",
       "  <tbody>\n",
       "    <tr>\n",
       "      <th>0</th>\n",
       "      <td>0</td>\n",
       "      <td>Бульвар Рокоссовского</td>\n",
       "      <td>Сокольническая</td>\n",
       "    </tr>\n",
       "    <tr>\n",
       "      <th>1</th>\n",
       "      <td>1</td>\n",
       "      <td>Черкизовская</td>\n",
       "      <td>Сокольническая</td>\n",
       "    </tr>\n",
       "    <tr>\n",
       "      <th>2</th>\n",
       "      <td>2</td>\n",
       "      <td>Преображенская площадь</td>\n",
       "      <td>Сокольническая</td>\n",
       "    </tr>\n",
       "    <tr>\n",
       "      <th>3</th>\n",
       "      <td>3</td>\n",
       "      <td>Сокольники</td>\n",
       "      <td>Сокольническая</td>\n",
       "    </tr>\n",
       "    <tr>\n",
       "      <th>4</th>\n",
       "      <td>4</td>\n",
       "      <td>Красносельская</td>\n",
       "      <td>Сокольническая</td>\n",
       "    </tr>\n",
       "  </tbody>\n",
       "</table>\n",
       "</div>"
      ],
      "text/plain": [
       "   id            station_name       line_name\n",
       "0   0   Бульвар Рокоссовского  Сокольническая\n",
       "1   1            Черкизовская  Сокольническая\n",
       "2   2  Преображенская площадь  Сокольническая\n",
       "3   3              Сокольники  Сокольническая\n",
       "4   4          Красносельская  Сокольническая"
      ]
     },
     "execution_count": 4,
     "metadata": {},
     "output_type": "execute_result"
    }
   ],
   "source": [
    "stations_data = stations[['id', 'station_name', 'line_name']]\n",
    "stations_data.head()"
   ]
  },
  {
   "cell_type": "code",
   "execution_count": 5,
   "id": "ca7f29c1",
   "metadata": {},
   "outputs": [],
   "source": [
    "stations_data.to_csv(r'stations_data.txt', header=None, index=None, sep=',', mode='a')"
   ]
  },
  {
   "cell_type": "code",
   "execution_count": 6,
   "id": "84a05d07",
   "metadata": {},
   "outputs": [
    {
     "data": {
      "text/plain": [
       "0"
      ]
     },
     "execution_count": 6,
     "metadata": {},
     "output_type": "execute_result"
    }
   ],
   "source": [
    "stations_data[['station_name', 'line_name']].duplicated().sum()"
   ]
  },
  {
   "cell_type": "code",
   "execution_count": 7,
   "id": "4854cf9b",
   "metadata": {},
   "outputs": [
    {
     "name": "stdout",
     "output_type": "stream",
     "text": [
      "<class 'pandas.core.frame.DataFrame'>\n",
      "RangeIndex: 194 entries, 0 to 193\n",
      "Data columns (total 3 columns):\n",
      " #   Column        Non-Null Count  Dtype \n",
      "---  ------        --------------  ----- \n",
      " 0   id            194 non-null    int64 \n",
      " 1   station_name  194 non-null    object\n",
      " 2   line_name     194 non-null    object\n",
      "dtypes: int64(1), object(2)\n",
      "memory usage: 4.7+ KB\n"
     ]
    }
   ],
   "source": [
    "stations_data.info()"
   ]
  },
  {
   "cell_type": "code",
   "execution_count": 8,
   "id": "b0c3d1a2",
   "metadata": {},
   "outputs": [
    {
     "name": "stdout",
     "output_type": "stream",
     "text": [
      "Всего станций: 194\n"
     ]
    }
   ],
   "source": [
    "N = stations.shape[0]\n",
    "print(f'Всего станций: {N}')"
   ]
  },
  {
   "cell_type": "code",
   "execution_count": 9,
   "id": "67916872",
   "metadata": {},
   "outputs": [
    {
     "data": {
      "text/plain": [
       "(456, 8)"
      ]
     },
     "execution_count": 9,
     "metadata": {},
     "output_type": "execute_result"
    }
   ],
   "source": [
    "ROUTES = 'data/routes_data.tsv'\n",
    "\n",
    "routes_base = pd.read_csv(ROUTES, sep='\\t')\n",
    "routes = routes_base.copy()\n",
    "routes.shape"
   ]
  },
  {
   "cell_type": "code",
   "execution_count": 10,
   "id": "567dd3e5",
   "metadata": {},
   "outputs": [
    {
     "data": {
      "text/html": [
       "<div>\n",
       "<style scoped>\n",
       "    .dataframe tbody tr th:only-of-type {\n",
       "        vertical-align: middle;\n",
       "    }\n",
       "\n",
       "    .dataframe tbody tr th {\n",
       "        vertical-align: top;\n",
       "    }\n",
       "\n",
       "    .dataframe thead th {\n",
       "        text-align: right;\n",
       "    }\n",
       "</style>\n",
       "<table border=\"1\" class=\"dataframe\">\n",
       "  <thead>\n",
       "    <tr style=\"text-align: right;\">\n",
       "      <th></th>\n",
       "      <th>id_from</th>\n",
       "      <th>id_to</th>\n",
       "      <th>line_from</th>\n",
       "      <th>station_from</th>\n",
       "      <th>line_to</th>\n",
       "      <th>station_to</th>\n",
       "      <th>route_type</th>\n",
       "      <th>delay</th>\n",
       "    </tr>\n",
       "  </thead>\n",
       "  <tbody>\n",
       "    <tr>\n",
       "      <th>0</th>\n",
       "      <td>0</td>\n",
       "      <td>1</td>\n",
       "      <td>Сокольническая</td>\n",
       "      <td>Бульвар Рокоссовского</td>\n",
       "      <td>Сокольническая</td>\n",
       "      <td>Черкизовская</td>\n",
       "      <td>drive</td>\n",
       "      <td>120</td>\n",
       "    </tr>\n",
       "    <tr>\n",
       "      <th>1</th>\n",
       "      <td>1</td>\n",
       "      <td>0</td>\n",
       "      <td>Сокольническая</td>\n",
       "      <td>Черкизовская</td>\n",
       "      <td>Сокольническая</td>\n",
       "      <td>Бульвар Рокоссовского</td>\n",
       "      <td>drive</td>\n",
       "      <td>120</td>\n",
       "    </tr>\n",
       "    <tr>\n",
       "      <th>2</th>\n",
       "      <td>1</td>\n",
       "      <td>2</td>\n",
       "      <td>Сокольническая</td>\n",
       "      <td>Черкизовская</td>\n",
       "      <td>Сокольническая</td>\n",
       "      <td>Преображенская площадь</td>\n",
       "      <td>drive</td>\n",
       "      <td>240</td>\n",
       "    </tr>\n",
       "    <tr>\n",
       "      <th>3</th>\n",
       "      <td>2</td>\n",
       "      <td>1</td>\n",
       "      <td>Сокольническая</td>\n",
       "      <td>Преображенская площадь</td>\n",
       "      <td>Сокольническая</td>\n",
       "      <td>Черкизовская</td>\n",
       "      <td>drive</td>\n",
       "      <td>240</td>\n",
       "    </tr>\n",
       "    <tr>\n",
       "      <th>4</th>\n",
       "      <td>2</td>\n",
       "      <td>3</td>\n",
       "      <td>Сокольническая</td>\n",
       "      <td>Преображенская площадь</td>\n",
       "      <td>Сокольническая</td>\n",
       "      <td>Сокольники</td>\n",
       "      <td>drive</td>\n",
       "      <td>180</td>\n",
       "    </tr>\n",
       "  </tbody>\n",
       "</table>\n",
       "</div>"
      ],
      "text/plain": [
       "   id_from  id_to       line_from            station_from         line_to  \\\n",
       "0        0      1  Сокольническая   Бульвар Рокоссовского  Сокольническая   \n",
       "1        1      0  Сокольническая            Черкизовская  Сокольническая   \n",
       "2        1      2  Сокольническая            Черкизовская  Сокольническая   \n",
       "3        2      1  Сокольническая  Преображенская площадь  Сокольническая   \n",
       "4        2      3  Сокольническая  Преображенская площадь  Сокольническая   \n",
       "\n",
       "               station_to route_type  delay  \n",
       "0            Черкизовская      drive    120  \n",
       "1   Бульвар Рокоссовского      drive    120  \n",
       "2  Преображенская площадь      drive    240  \n",
       "3            Черкизовская      drive    240  \n",
       "4              Сокольники      drive    180  "
      ]
     },
     "execution_count": 10,
     "metadata": {},
     "output_type": "execute_result"
    }
   ],
   "source": [
    "routes.head()"
   ]
  },
  {
   "cell_type": "code",
   "execution_count": 11,
   "id": "61012a84",
   "metadata": {},
   "outputs": [
    {
     "data": {
      "text/plain": [
       "array([[0, 0, 0, ..., 0, 0, 0],\n",
       "       [0, 0, 0, ..., 0, 0, 0],\n",
       "       [0, 0, 0, ..., 0, 0, 0],\n",
       "       ...,\n",
       "       [0, 0, 0, ..., 0, 0, 0],\n",
       "       [0, 0, 0, ..., 0, 0, 0],\n",
       "       [0, 0, 0, ..., 0, 0, 0]])"
      ]
     },
     "execution_count": 11,
     "metadata": {},
     "output_type": "execute_result"
    }
   ],
   "source": [
    "stations_matrix = np.zeros((N, N), dtype=int)\n",
    "stations_matrix"
   ]
  },
  {
   "cell_type": "code",
   "execution_count": 12,
   "id": "ba1260e8",
   "metadata": {},
   "outputs": [
    {
     "data": {
      "text/plain": [
       "array([[0, 1, 0, ..., 0, 0, 0],\n",
       "       [1, 0, 1, ..., 0, 0, 0],\n",
       "       [0, 1, 0, ..., 0, 0, 0],\n",
       "       ...,\n",
       "       [0, 0, 0, ..., 0, 1, 0],\n",
       "       [0, 0, 0, ..., 1, 0, 1],\n",
       "       [0, 0, 0, ..., 0, 1, 0]])"
      ]
     },
     "execution_count": 12,
     "metadata": {},
     "output_type": "execute_result"
    }
   ],
   "source": [
    "ids_from = routes['id_from']\n",
    "ids_to = routes['id_to']\n",
    "\n",
    "for i in range(len(ids_from)):\n",
    "    stations_matrix[ids_from[i]][ids_to[i]] = 1\n",
    "stations_matrix"
   ]
  },
  {
   "cell_type": "code",
   "execution_count": 13,
   "id": "747ede26",
   "metadata": {},
   "outputs": [],
   "source": [
    "np.savetxt('stations_matrix.txt', stations_matrix, fmt='%i', delimiter=' ')"
   ]
  },
  {
   "cell_type": "code",
   "execution_count": 14,
   "id": "e70c64c0",
   "metadata": {},
   "outputs": [],
   "source": [
    "line_color = {\n",
    "    'Сокольническая': 'tab:red',\n",
    "    'Замоскворецкая': 'tab:green',\n",
    "    'Арбатско-Покровская': 'tab:blue',\n",
    "    'Филевская': 'deepskyblue',\n",
    "    'Кольцевая': 'tab:brown',\n",
    "    'Калужско-Рижская': 'tab:orange',\n",
    "    'Таганско-Краснопресненская': 'tab:purple', \n",
    "    'Калининская': 'gold',\n",
    "    'Серпуховско-Тимирязевская': 'gray', \n",
    "    'Люблинско-Дмитровская': 'yellowgreen',\n",
    "    'Каховская': 'paleturquoise', \n",
    "    'Бутовская': 'lightblue', \n",
    "    'Монорельс': 'royalblue'\n",
    "}"
   ]
  },
  {
   "cell_type": "code",
   "execution_count": 15,
   "id": "3d79059e",
   "metadata": {},
   "outputs": [],
   "source": [
    "def metro_graph(stations: pd.DataFrame, routes: pd.DataFrame) -> nx.Graph:\n",
    "    \"\"\"\n",
    "    Build a graph with metro stations and routes\n",
    "    \n",
    "    :param stations: dataframe with undeground stations (nodes) description, column id is used for node id in the nx.Graph\n",
    "    :param routes: edgelist for undeground graph. id_from is source and id_to is target nodes.\n",
    "    :return: graph of Moscow undeground\n",
    "    \"\"\"\n",
    "    G = nx.Graph()\n",
    "    G.add_nodes_from(stations.id)\n",
    "    edges = routes[['id_from', 'id_to']].values\n",
    "    G.add_edges_from(edges)\n",
    "    nx.set_node_attributes(G, stations['station_name'].to_dict(), 'station_name')\n",
    "    nx.set_node_attributes(G, stations['line_name'].to_dict(), 'line_name')\n",
    "    return G\n",
    "\n",
    "def metro_layout(stations: pd.DataFrame) -> Dict[int, List[float]]:\n",
    "    \"\"\"\n",
    "    Build a distance based layout of the metro graph\n",
    "    \n",
    "    :param stations: dataframe with undeground stations (nodes) description, column id is used for node id in the nx.Graph.\n",
    "        lat and lon is geo coordinates of station.\n",
    "    :return: geo layout of Moscow undeground\n",
    "    \"\"\"\n",
    "    return {int(id):[lon, lat] for id, lon, lat in stations[['id', 'lon', 'lat']].values}\n",
    "    \n",
    "def station_color(G: nx.Graph, line_color: Dict[str, str] = line_color) -> Dict[int, str]:\n",
    "    \"\"\"\n",
    "    Defines color of stations\n",
    "    \n",
    "    :param G: graph of Moscow undeground\n",
    "    :param line_color: mapping of undeground lines to colors\n",
    "    :return: mapping of node ids to its colors \n",
    "    \"\"\"\n",
    "    return {node:line_color[l] for node, l in nx.get_node_attributes(G, 'line_name').items()}"
   ]
  },
  {
   "cell_type": "code",
   "execution_count": 16,
   "id": "4fe324af",
   "metadata": {},
   "outputs": [],
   "source": [
    "G = metro_graph(stations, routes)\n",
    "pos = metro_layout(stations)\n",
    "nx.set_node_attributes(G, station_color(G), 'color')"
   ]
  },
  {
   "cell_type": "code",
   "execution_count": 17,
   "id": "dc09cdd3",
   "metadata": {},
   "outputs": [
    {
     "data": {
      "image/png": "[encoded data removed]",
      "text/plain": [
       "<Figure size 1000x800 with 1 Axes>"
      ]
     },
     "metadata": {},
     "output_type": "display_data"
    }
   ],
   "source": [
    "plt.figure(figsize=(10, 8))\n",
    "nx.draw(\n",
    "    G, \n",
    "    pos,\n",
    "    width=0.5,\n",
    "    node_color=list(nx.get_node_attributes(G, 'color').values()),\n",
    "    node_size=60,\n",
    ")\n",
    "plt.savefig('subway.png')\n",
    "plt.show()"
   ]
  },
  {
   "cell_type": "code",
   "execution_count": null,
   "id": "0756d3c5",
   "metadata": {},
   "outputs": [],
   "source": []
  }
 ],
 "metadata": {
  "kernelspec": {
   "display_name": "Python 3 (ipykernel)",
   "language": "python",
   "name": "python3"
  },
  "language_info": {
   "codemirror_mode": {
    "name": "ipython",
    "version": 3
   },
   "file_extension": ".py",
   "mimetype": "text/x-python",
   "name": "python",
   "nbconvert_exporter": "python",
   "pygments_lexer": "ipython3",
   "version": "3.10.4"
  }
 },
 "nbformat": 4,
 "nbformat_minor": 5
}
