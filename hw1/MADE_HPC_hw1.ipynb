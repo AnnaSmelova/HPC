{
 "cells": [
  {
   "cell_type": "markdown",
   "id": "30927259",
   "metadata": {},
   "source": [
    "### Высокопроизводительные вычисления: Домашнее задание №1: ДЗ-1"
   ]
  },
  {
   "cell_type": "markdown",
   "id": "b3359ced",
   "metadata": {},
   "source": [
    "1. (50%) На основании данных рейтинга top500 спрогнозировать  производительность компьютера №1 в 2025\n",
    "\n",
    "2. (50%) Оцените какой процент всего производимого на Земле электричества потребляют все компьютеры из top500 (на основании открытых данных top500.org)\n",
    "\n",
    "3. (10% Бонус) Улучшить производительность программы с реализацией алгоритма матричного умножения (сниппет https://bit.ly/339RAhp )"
   ]
  },
  {
   "cell_type": "markdown",
   "id": "27c30f7f",
   "metadata": {},
   "source": [
    "#### Задание 1. На основании данных рейтинга top500 спрогнозировать производительность компьютера №1 в 2025.\n",
    "\n",
    "Данные: https://top500.org/statistics/perfdevel/"
   ]
  },
  {
   "cell_type": "code",
   "execution_count": 1,
   "id": "6992ca39",
   "metadata": {},
   "outputs": [],
   "source": [
    "import requests\n",
    "from lxml import html\n",
    "from pprint import pprint\n",
    "import re\n",
    "import pandas as pd\n",
    "import numpy as np\n",
    "import matplotlib.pyplot as plt\n",
    "from sklearn.linear_model import LinearRegression as LR\n",
    "\n",
    "import warnings\n",
    "warnings.filterwarnings('ignore')\n",
    "\n",
    "%matplotlib inline\n",
    "\n",
    "HEADERS = {'User-agent': 'Mozilla/5.0 (Macintosh; Intel Mac OS X 10_15_4) AppleWebKit/537.36 (KHTML, like Gecko) '\n",
    "                             'Chrome/83.0.4103.61 Safari/537.36'}"
   ]
  },
  {
   "cell_type": "code",
   "execution_count": 2,
   "id": "063fa8d5",
   "metadata": {},
   "outputs": [],
   "source": [
    "data_link = 'https://top500.org/statistics/perfdevel/'\n",
    "response = requests.get(data_link, headers=HEADERS)\n",
    "dom = html.fromstring(response.text)\n",
    "script_blocks = dom.xpath(\"//script\")\n",
    "data_table = script_blocks[12]"
   ]
  },
  {
   "cell_type": "code",
   "execution_count": 3,
   "id": "91720bfe",
   "metadata": {},
   "outputs": [
    {
     "name": "stdout",
     "output_type": "stream",
     "text": [
      "(\"#500');\\n\"\n",
      " \"        dataTable.addColumn({type: 'string', role: 'tooltip'});\\n\"\n",
      " '\\n'\n",
      " '        dataTable.addRows([\\n'\n",
      " '            \\n'\n",
      " '                      [   new Date(1993, 5, 1),\\n'\n",
      " '                          1128.57,\\n'\n",
      " '                          \"06/1993: Sum = 1.1 TFlop/s\",\\n'\n",
      " '                          59.70,\\n'\n",
      " '                          \"06/1993: #1 = 59.7 GFlop/s\",\\n'\n",
      " '                          0.42,\\n'\n",
      " '                          \"06/1993: #500 = 0.4 GFlop/s\"],\\n'\n",
      " '             \\n'\n",
      " '                      [   new Date(1993, 10, 1),\\n'\n",
      " '                          1493.35,\\n'\n",
      " '                          \"11/1993: Sum = 1.5 TFlop/s\",\\n'\n",
      " '                          124.00,\\n'\n",
      " '                          \"11/1993: #1 = 124.0 GFlop/s\",\\n'\n",
      " '                          0.47,\\n'\n",
      " '                          \"11/1993: #500 = 0.5 GFlop/s\"],\\n'\n",
      " '             \\n'\n",
      " '                      [   new Date(1994, 5, 1),\\n'\n",
      " '                          2317.01,\\n'\n",
      " '                          \"06/1994: Sum = 2.3 TFlop/s\",\\n'\n",
      " '                          143.40,\\n'\n",
      " '                          \"06/1994: #1 = 143.4')\n"
     ]
    }
   ],
   "source": [
    "pprint(data_table.text[500:1500])"
   ]
  },
  {
   "cell_type": "markdown",
   "id": "912cc2f6",
   "metadata": {},
   "source": [
    "Нас интересуют данные, начинающиеся с \"new Date\". В данных везде стоят 5 и 10 месяцы, на графике на сайте указаны июнь и ноябрь, поэтому сделаем замену."
   ]
  },
  {
   "cell_type": "code",
   "execution_count": 4,
   "id": "e0569712",
   "metadata": {},
   "outputs": [
    {
     "data": {
      "text/plain": [
       "['1993-06-01',\n",
       " '1993-11-01',\n",
       " '1994-06-01',\n",
       " '1994-11-01',\n",
       " '1995-06-01',\n",
       " '1995-11-01',\n",
       " '1996-06-01',\n",
       " '1996-11-01',\n",
       " '1997-06-01',\n",
       " '1997-11-01']"
      ]
     },
     "execution_count": 4,
     "metadata": {},
     "output_type": "execute_result"
    }
   ],
   "source": [
    "dates_data = re.findall('new Date\\((.+?)\\),\\n', data_table.text)\n",
    "dates_data = [date.replace(', ', '-').replace('-5-1', '-06-01').replace('-10-1', '-11-01') for date in dates_data]\n",
    "dates_data[:10]"
   ]
  },
  {
   "cell_type": "markdown",
   "id": "c15321b6",
   "metadata": {},
   "source": [
    "Gflop - минимальная единица, приводим все к ней <br>\n",
    "Gflop/s - e0<br>\n",
    "Tflop/s - e3<br>\n",
    "Pflop/s - e6<br>\n",
    "Eflop/s - e9"
   ]
  },
  {
   "cell_type": "code",
   "execution_count": 5,
   "id": "d9d2f77e",
   "metadata": {},
   "outputs": [
    {
     "data": {
      "text/plain": [
       "[1100.0,\n",
       " 1500.0,\n",
       " 2300.0,\n",
       " 2700.0,\n",
       " 3900.0,\n",
       " 4800.0,\n",
       " 5900.0,\n",
       " 8000.0,\n",
       " 12800.0,\n",
       " 16900.0]"
      ]
     },
     "execution_count": 5,
     "metadata": {},
     "output_type": "execute_result"
    }
   ],
   "source": [
    "sum_data = re.findall('Sum\\s=\\s(.+?)\\\",\\n', data_table.text)\n",
    "sum_data = [float(sdata.replace(' GFlop/s', 'e0').replace(' TFlop/s', 'e3').replace(' PFlop/s', 'e6').replace(' EFlop/s', 'e9')) for sdata in sum_data]\n",
    "sum_data[:10]"
   ]
  },
  {
   "cell_type": "code",
   "execution_count": 6,
   "id": "53ea328d",
   "metadata": {},
   "outputs": [
    {
     "data": {
      "text/plain": [
       "[59.7, 124.0, 143.4, 170.0, 170.0, 170.0, 220.4, 368.2, 1100.0, 1300.0]"
      ]
     },
     "execution_count": 6,
     "metadata": {},
     "output_type": "execute_result"
    }
   ],
   "source": [
    "top1_data = re.findall('#1\\s=\\s(.+?)\\\",\\n', data_table.text)\n",
    "top1_data = [float(top1.replace(' GFlop/s', 'e0').replace(' TFlop/s', 'e3').replace(' PFlop/s', 'e6').replace(' EFlop/s', 'e9')) for top1 in top1_data]\n",
    "top1_data[:10]"
   ]
  },
  {
   "cell_type": "code",
   "execution_count": 7,
   "id": "e34a9cf3",
   "metadata": {},
   "outputs": [
    {
     "data": {
      "text/plain": [
       "[0.4, 0.5, 0.8, 1.2, 2.0, 2.5, 3.3, 4.6, 7.7, 9.5]"
      ]
     },
     "execution_count": 7,
     "metadata": {},
     "output_type": "execute_result"
    }
   ],
   "source": [
    "top500_data = re.findall('#500\\s=\\s(.+?)\\\"],', data_table.text)\n",
    "top500_data = [float(top500.replace(' GFlop/s', 'e0').replace(' TFlop/s', 'e3').replace(' PFlop/s', 'e6').replace(' EFlop/s', 'e9')) for top500 in top500_data]\n",
    "top500_data[:10]"
   ]
  },
  {
   "cell_type": "code",
   "execution_count": 8,
   "id": "caaf3938",
   "metadata": {},
   "outputs": [
    {
     "data": {
      "text/html": [
       "<div>\n",
       "<style scoped>\n",
       "    .dataframe tbody tr th:only-of-type {\n",
       "        vertical-align: middle;\n",
       "    }\n",
       "\n",
       "    .dataframe tbody tr th {\n",
       "        vertical-align: top;\n",
       "    }\n",
       "\n",
       "    .dataframe thead th {\n",
       "        text-align: right;\n",
       "    }\n",
       "</style>\n",
       "<table border=\"1\" class=\"dataframe\">\n",
       "  <thead>\n",
       "    <tr style=\"text-align: right;\">\n",
       "      <th></th>\n",
       "      <th>date</th>\n",
       "      <th>sum</th>\n",
       "      <th>top1</th>\n",
       "      <th>top500</th>\n",
       "    </tr>\n",
       "  </thead>\n",
       "  <tbody>\n",
       "    <tr>\n",
       "      <th>0</th>\n",
       "      <td>1993-06-01</td>\n",
       "      <td>1100.0</td>\n",
       "      <td>59.7</td>\n",
       "      <td>0.4</td>\n",
       "    </tr>\n",
       "    <tr>\n",
       "      <th>1</th>\n",
       "      <td>1993-11-01</td>\n",
       "      <td>1500.0</td>\n",
       "      <td>124.0</td>\n",
       "      <td>0.5</td>\n",
       "    </tr>\n",
       "    <tr>\n",
       "      <th>2</th>\n",
       "      <td>1994-06-01</td>\n",
       "      <td>2300.0</td>\n",
       "      <td>143.4</td>\n",
       "      <td>0.8</td>\n",
       "    </tr>\n",
       "    <tr>\n",
       "      <th>3</th>\n",
       "      <td>1994-11-01</td>\n",
       "      <td>2700.0</td>\n",
       "      <td>170.0</td>\n",
       "      <td>1.2</td>\n",
       "    </tr>\n",
       "    <tr>\n",
       "      <th>4</th>\n",
       "      <td>1995-06-01</td>\n",
       "      <td>3900.0</td>\n",
       "      <td>170.0</td>\n",
       "      <td>2.0</td>\n",
       "    </tr>\n",
       "  </tbody>\n",
       "</table>\n",
       "</div>"
      ],
      "text/plain": [
       "        date     sum   top1  top500\n",
       "0 1993-06-01  1100.0   59.7     0.4\n",
       "1 1993-11-01  1500.0  124.0     0.5\n",
       "2 1994-06-01  2300.0  143.4     0.8\n",
       "3 1994-11-01  2700.0  170.0     1.2\n",
       "4 1995-06-01  3900.0  170.0     2.0"
      ]
     },
     "execution_count": 8,
     "metadata": {},
     "output_type": "execute_result"
    }
   ],
   "source": [
    "df = pd.DataFrame()\n",
    "df['date'] = dates_data\n",
    "df['date'] = df['date'].apply(pd.to_datetime)\n",
    "df['sum'] = sum_data\n",
    "df['top1'] = top1_data\n",
    "df['top500'] = top500_data\n",
    "df.head()"
   ]
  },
  {
   "cell_type": "code",
   "execution_count": 9,
   "id": "90bb4274",
   "metadata": {},
   "outputs": [
    {
     "data": {
      "text/html": [
       "<div>\n",
       "<style scoped>\n",
       "    .dataframe tbody tr th:only-of-type {\n",
       "        vertical-align: middle;\n",
       "    }\n",
       "\n",
       "    .dataframe tbody tr th {\n",
       "        vertical-align: top;\n",
       "    }\n",
       "\n",
       "    .dataframe thead th {\n",
       "        text-align: right;\n",
       "    }\n",
       "</style>\n",
       "<table border=\"1\" class=\"dataframe\">\n",
       "  <thead>\n",
       "    <tr style=\"text-align: right;\">\n",
       "      <th></th>\n",
       "      <th>date</th>\n",
       "      <th>sum</th>\n",
       "      <th>top1</th>\n",
       "      <th>top500</th>\n",
       "    </tr>\n",
       "  </thead>\n",
       "  <tbody>\n",
       "    <tr>\n",
       "      <th>54</th>\n",
       "      <td>2020-06-01</td>\n",
       "      <td>2.200000e+09</td>\n",
       "      <td>4.155000e+08</td>\n",
       "      <td>1200000.0</td>\n",
       "    </tr>\n",
       "    <tr>\n",
       "      <th>55</th>\n",
       "      <td>2020-11-01</td>\n",
       "      <td>2.400000e+09</td>\n",
       "      <td>4.420000e+08</td>\n",
       "      <td>1300000.0</td>\n",
       "    </tr>\n",
       "    <tr>\n",
       "      <th>56</th>\n",
       "      <td>2021-06-01</td>\n",
       "      <td>2.800000e+09</td>\n",
       "      <td>4.420000e+08</td>\n",
       "      <td>1500000.0</td>\n",
       "    </tr>\n",
       "    <tr>\n",
       "      <th>57</th>\n",
       "      <td>2021-11-01</td>\n",
       "      <td>3.000000e+09</td>\n",
       "      <td>4.420000e+08</td>\n",
       "      <td>1600000.0</td>\n",
       "    </tr>\n",
       "    <tr>\n",
       "      <th>58</th>\n",
       "      <td>2022-06-01</td>\n",
       "      <td>4.400000e+09</td>\n",
       "      <td>1.100000e+09</td>\n",
       "      <td>1600000.0</td>\n",
       "    </tr>\n",
       "  </tbody>\n",
       "</table>\n",
       "</div>"
      ],
      "text/plain": [
       "         date           sum          top1     top500\n",
       "54 2020-06-01  2.200000e+09  4.155000e+08  1200000.0\n",
       "55 2020-11-01  2.400000e+09  4.420000e+08  1300000.0\n",
       "56 2021-06-01  2.800000e+09  4.420000e+08  1500000.0\n",
       "57 2021-11-01  3.000000e+09  4.420000e+08  1600000.0\n",
       "58 2022-06-01  4.400000e+09  1.100000e+09  1600000.0"
      ]
     },
     "execution_count": 9,
     "metadata": {},
     "output_type": "execute_result"
    }
   ],
   "source": [
    "df.tail()"
   ]
  },
  {
   "cell_type": "code",
   "execution_count": 10,
   "id": "9c8d886a",
   "metadata": {},
   "outputs": [
    {
     "data": {
      "image/png": "[encoded data removed]",
      "text/plain": [
       "<Figure size 800x800 with 1 Axes>"
      ]
     },
     "metadata": {},
     "output_type": "display_data"
    }
   ],
   "source": [
    "plt.figure(figsize=(8, 8))\n",
    "plt.title('Performance Development')\n",
    "plt.box(True)\n",
    "ax = plt.subplot()\n",
    "colors = ['green', 'orange', 'DarkBlue']\n",
    "df.plot('date', ['sum', 'top1', 'top500'], ax=ax, logy=True, style=['o','^','s'], color=colors, ms=4, grid=True)\n",
    "ax.set_ylabel('GFlop/s')\n",
    "plt.show()"
   ]
  },
  {
   "cell_type": "markdown",
   "id": "e30f692e",
   "metadata": {},
   "source": [
    "Для прогноза воспользуемся линейной моделью."
   ]
  },
  {
   "cell_type": "code",
   "execution_count": 11,
   "id": "6127cbab",
   "metadata": {},
   "outputs": [
    {
     "data": {
      "text/html": [
       "<div>\n",
       "<style scoped>\n",
       "    .dataframe tbody tr th:only-of-type {\n",
       "        vertical-align: middle;\n",
       "    }\n",
       "\n",
       "    .dataframe tbody tr th {\n",
       "        vertical-align: top;\n",
       "    }\n",
       "\n",
       "    .dataframe thead th {\n",
       "        text-align: right;\n",
       "    }\n",
       "</style>\n",
       "<table border=\"1\" class=\"dataframe\">\n",
       "  <thead>\n",
       "    <tr style=\"text-align: right;\">\n",
       "      <th></th>\n",
       "      <th>date</th>\n",
       "      <th>sum</th>\n",
       "      <th>top1</th>\n",
       "      <th>top500</th>\n",
       "      <th>X</th>\n",
       "    </tr>\n",
       "  </thead>\n",
       "  <tbody>\n",
       "    <tr>\n",
       "      <th>0</th>\n",
       "      <td>1993-06-01</td>\n",
       "      <td>1100.0</td>\n",
       "      <td>59.7</td>\n",
       "      <td>0.4</td>\n",
       "      <td>0</td>\n",
       "    </tr>\n",
       "    <tr>\n",
       "      <th>1</th>\n",
       "      <td>1993-11-01</td>\n",
       "      <td>1500.0</td>\n",
       "      <td>124.0</td>\n",
       "      <td>0.5</td>\n",
       "      <td>153</td>\n",
       "    </tr>\n",
       "    <tr>\n",
       "      <th>2</th>\n",
       "      <td>1994-06-01</td>\n",
       "      <td>2300.0</td>\n",
       "      <td>143.4</td>\n",
       "      <td>0.8</td>\n",
       "      <td>365</td>\n",
       "    </tr>\n",
       "    <tr>\n",
       "      <th>3</th>\n",
       "      <td>1994-11-01</td>\n",
       "      <td>2700.0</td>\n",
       "      <td>170.0</td>\n",
       "      <td>1.2</td>\n",
       "      <td>518</td>\n",
       "    </tr>\n",
       "    <tr>\n",
       "      <th>4</th>\n",
       "      <td>1995-06-01</td>\n",
       "      <td>3900.0</td>\n",
       "      <td>170.0</td>\n",
       "      <td>2.0</td>\n",
       "      <td>730</td>\n",
       "    </tr>\n",
       "  </tbody>\n",
       "</table>\n",
       "</div>"
      ],
      "text/plain": [
       "        date     sum   top1  top500    X\n",
       "0 1993-06-01  1100.0   59.7     0.4    0\n",
       "1 1993-11-01  1500.0  124.0     0.5  153\n",
       "2 1994-06-01  2300.0  143.4     0.8  365\n",
       "3 1994-11-01  2700.0  170.0     1.2  518\n",
       "4 1995-06-01  3900.0  170.0     2.0  730"
      ]
     },
     "execution_count": 11,
     "metadata": {},
     "output_type": "execute_result"
    }
   ],
   "source": [
    "df['X'] = (df['date'] - df['date'][0]).dt.days.values\n",
    "df.head()"
   ]
  },
  {
   "cell_type": "code",
   "execution_count": 12,
   "id": "77cd0c9a",
   "metadata": {},
   "outputs": [
    {
     "data": {
      "text/html": [
       "<div>\n",
       "<style scoped>\n",
       "    .dataframe tbody tr th:only-of-type {\n",
       "        vertical-align: middle;\n",
       "    }\n",
       "\n",
       "    .dataframe tbody tr th {\n",
       "        vertical-align: top;\n",
       "    }\n",
       "\n",
       "    .dataframe thead th {\n",
       "        text-align: right;\n",
       "    }\n",
       "</style>\n",
       "<table border=\"1\" class=\"dataframe\">\n",
       "  <thead>\n",
       "    <tr style=\"text-align: right;\">\n",
       "      <th></th>\n",
       "      <th>date</th>\n",
       "      <th>sum</th>\n",
       "      <th>top1</th>\n",
       "      <th>top500</th>\n",
       "      <th>X</th>\n",
       "      <th>preds</th>\n",
       "    </tr>\n",
       "  </thead>\n",
       "  <tbody>\n",
       "    <tr>\n",
       "      <th>54</th>\n",
       "      <td>2020-06-01</td>\n",
       "      <td>2.200000e+09</td>\n",
       "      <td>4.155000e+08</td>\n",
       "      <td>1200000.0</td>\n",
       "      <td>9862</td>\n",
       "      <td>6.093123e+08</td>\n",
       "    </tr>\n",
       "    <tr>\n",
       "      <th>55</th>\n",
       "      <td>2020-11-01</td>\n",
       "      <td>2.400000e+09</td>\n",
       "      <td>4.420000e+08</td>\n",
       "      <td>1300000.0</td>\n",
       "      <td>10015</td>\n",
       "      <td>7.784605e+08</td>\n",
       "    </tr>\n",
       "    <tr>\n",
       "      <th>56</th>\n",
       "      <td>2021-06-01</td>\n",
       "      <td>2.800000e+09</td>\n",
       "      <td>4.420000e+08</td>\n",
       "      <td>1500000.0</td>\n",
       "      <td>10227</td>\n",
       "      <td>1.093105e+09</td>\n",
       "    </tr>\n",
       "    <tr>\n",
       "      <th>57</th>\n",
       "      <td>2021-11-01</td>\n",
       "      <td>3.000000e+09</td>\n",
       "      <td>4.420000e+08</td>\n",
       "      <td>1600000.0</td>\n",
       "      <td>10380</td>\n",
       "      <td>1.396556e+09</td>\n",
       "    </tr>\n",
       "    <tr>\n",
       "      <th>58</th>\n",
       "      <td>2022-06-01</td>\n",
       "      <td>4.400000e+09</td>\n",
       "      <td>1.100000e+09</td>\n",
       "      <td>1600000.0</td>\n",
       "      <td>10592</td>\n",
       "      <td>1.961028e+09</td>\n",
       "    </tr>\n",
       "  </tbody>\n",
       "</table>\n",
       "</div>"
      ],
      "text/plain": [
       "         date           sum          top1     top500      X         preds\n",
       "54 2020-06-01  2.200000e+09  4.155000e+08  1200000.0   9862  6.093123e+08\n",
       "55 2020-11-01  2.400000e+09  4.420000e+08  1300000.0  10015  7.784605e+08\n",
       "56 2021-06-01  2.800000e+09  4.420000e+08  1500000.0  10227  1.093105e+09\n",
       "57 2021-11-01  3.000000e+09  4.420000e+08  1600000.0  10380  1.396556e+09\n",
       "58 2022-06-01  4.400000e+09  1.100000e+09  1600000.0  10592  1.961028e+09"
      ]
     },
     "execution_count": 12,
     "metadata": {},
     "output_type": "execute_result"
    }
   ],
   "source": [
    "model = LR()\n",
    "model.fit(df['X'].values.reshape(-1, 1), np.log(df['top1'].values.reshape(-1, 1)))\n",
    "preds = np.exp(model.predict(df['X'].values.reshape(-1, 1)))\n",
    "df['preds'] = preds\n",
    "\n",
    "df.tail()"
   ]
  },
  {
   "cell_type": "code",
   "execution_count": 13,
   "id": "1eb6a41d",
   "metadata": {},
   "outputs": [
    {
     "name": "stdout",
     "output_type": "stream",
     "text": [
      "Прогнозируемая производительность компьютера №1 в 2025: 11340834540.284977 GFlop/s\n"
     ]
    }
   ],
   "source": [
    "target_date = pd.to_datetime('2025-06-01')\n",
    "target_X = np.array((target_date - df['date'][0]).days)\n",
    "result = np.exp(model.predict(target_X.reshape(-1, 1)))[0][0]\n",
    "print(f'Прогнозируемая производительность компьютера №1 в 2025: {result} GFlop/s')"
   ]
  },
  {
   "cell_type": "code",
   "execution_count": 14,
   "id": "6105de57",
   "metadata": {},
   "outputs": [],
   "source": [
    "df = df.append({'date': target_date, 'sum': 0, 'top1': result, 'top500': 0, 'X': 0, 'preds': result}, ignore_index=True)"
   ]
  },
  {
   "cell_type": "code",
   "execution_count": 15,
   "id": "cfdf5c20",
   "metadata": {},
   "outputs": [
    {
     "data": {
      "image/png": "[encoded data removed]",
      "text/plain": [
       "<Figure size 800x800 with 1 Axes>"
      ]
     },
     "metadata": {},
     "output_type": "display_data"
    }
   ],
   "source": [
    "plt.figure(figsize=(8, 8))\n",
    "plt.title('Performance Development Prediction')\n",
    "plt.box(True)\n",
    "ax = plt.subplot()\n",
    "colors = ['green', 'orange', 'DarkBlue']\n",
    "df.plot('date', ['sum', 'top1', 'top500'], ax=ax, logy=True, style=['o','^','s'], color=colors, ms=4, grid=True)\n",
    "df.plot('date', ['preds'], ax=ax, logy=True, style=['-'], color='orange', ms=1, grid=True, label=['LR top1'])\n",
    "plt.plot(target_date, result,'ro', label=f'2025 top1 perf={result:.3} GFlop/s') \n",
    "plt.legend()\n",
    "ax.set_ylabel('GFlop/s')\n",
    "plt.show()"
   ]
  },
  {
   "cell_type": "markdown",
   "id": "0ddcdde9",
   "metadata": {},
   "source": [
    "#### Ответ: Прогнозируемая производительность компьютера №1 в 2025 составит примерно 11.3 EFlop/s. Это больше, чем суммарная производительность сейчас (4.4 EFlop/s)."
   ]
  },
  {
   "cell_type": "markdown",
   "id": "e8f38c64",
   "metadata": {},
   "source": [
    "#### Задание 2. Оцените какой процент всего производимого на Земле электричества потребляют все компьютеры из top500 (на основании открытых данных top500.org)"
   ]
  },
  {
   "cell_type": "markdown",
   "id": "8b8bdc46",
   "metadata": {},
   "source": [
    "По данным из https://en.m.wikipedia.org/wiki/List_of_countries_by_electricity_production, всего в мире в 2020 году было произведено 26823200 GWh."
   ]
  },
  {
   "cell_type": "code",
   "execution_count": 16,
   "id": "573883e5",
   "metadata": {},
   "outputs": [],
   "source": [
    "world_electricity_production = 26823200e9"
   ]
  },
  {
   "cell_type": "markdown",
   "id": "6542adf0",
   "metadata": {},
   "source": [
    "Данные отсюда: https://www.top500.org/lists/top500/2022/06/download/TOP500_202206.xlsx"
   ]
  },
  {
   "cell_type": "code",
   "execution_count": 17,
   "id": "96f362c2",
   "metadata": {},
   "outputs": [
    {
     "data": {
      "text/html": [
       "<div>\n",
       "<style scoped>\n",
       "    .dataframe tbody tr th:only-of-type {\n",
       "        vertical-align: middle;\n",
       "    }\n",
       "\n",
       "    .dataframe tbody tr th {\n",
       "        vertical-align: top;\n",
       "    }\n",
       "\n",
       "    .dataframe thead th {\n",
       "        text-align: right;\n",
       "    }\n",
       "</style>\n",
       "<table border=\"1\" class=\"dataframe\">\n",
       "  <thead>\n",
       "    <tr style=\"text-align: right;\">\n",
       "      <th></th>\n",
       "      <th>Rank</th>\n",
       "      <th>Previous Rank</th>\n",
       "      <th>First Appearance</th>\n",
       "      <th>First Rank</th>\n",
       "      <th>Name</th>\n",
       "      <th>Computer</th>\n",
       "      <th>Site</th>\n",
       "      <th>Manufacturer</th>\n",
       "      <th>Country</th>\n",
       "      <th>Year</th>\n",
       "      <th>...</th>\n",
       "      <th>Accelerator/Co-Processor</th>\n",
       "      <th>Cores per Socket</th>\n",
       "      <th>Processor Generation</th>\n",
       "      <th>System Model</th>\n",
       "      <th>System Family</th>\n",
       "      <th>Interconnect Family</th>\n",
       "      <th>Interconnect</th>\n",
       "      <th>Continent</th>\n",
       "      <th>Site ID</th>\n",
       "      <th>System ID</th>\n",
       "    </tr>\n",
       "  </thead>\n",
       "  <tbody>\n",
       "    <tr>\n",
       "      <th>0</th>\n",
       "      <td>1</td>\n",
       "      <td>NaN</td>\n",
       "      <td>59</td>\n",
       "      <td>1</td>\n",
       "      <td>Frontier</td>\n",
       "      <td>HPE Cray EX235a, AMD Optimized 3rd Generation ...</td>\n",
       "      <td>DOE/SC/Oak Ridge National Laboratory</td>\n",
       "      <td>HPE</td>\n",
       "      <td>United States</td>\n",
       "      <td>2021</td>\n",
       "      <td>...</td>\n",
       "      <td>AMD Instinct MI250X</td>\n",
       "      <td>64</td>\n",
       "      <td>AMD Milan</td>\n",
       "      <td>HPE Cray EX235a</td>\n",
       "      <td>HPE Cray EX</td>\n",
       "      <td>Gigabit Ethernet</td>\n",
       "      <td>Slingshot-11</td>\n",
       "      <td>North America</td>\n",
       "      <td>48553</td>\n",
       "      <td>180047</td>\n",
       "    </tr>\n",
       "    <tr>\n",
       "      <th>1</th>\n",
       "      <td>2</td>\n",
       "      <td>1.0</td>\n",
       "      <td>55</td>\n",
       "      <td>1</td>\n",
       "      <td>Supercomputer Fugaku</td>\n",
       "      <td>Supercomputer Fugaku, A64FX 48C 2.2GHz, Tofu i...</td>\n",
       "      <td>RIKEN Center for Computational Science</td>\n",
       "      <td>Fujitsu</td>\n",
       "      <td>Japan</td>\n",
       "      <td>2020</td>\n",
       "      <td>...</td>\n",
       "      <td>None</td>\n",
       "      <td>48</td>\n",
       "      <td>Fujitsu A64FX</td>\n",
       "      <td>Supercomputer Fugaku</td>\n",
       "      <td>Fujitsu Cluster</td>\n",
       "      <td>Proprietary Network</td>\n",
       "      <td>Tofu interconnect D</td>\n",
       "      <td>Asia</td>\n",
       "      <td>50831</td>\n",
       "      <td>179807</td>\n",
       "    </tr>\n",
       "    <tr>\n",
       "      <th>2</th>\n",
       "      <td>3</td>\n",
       "      <td>NaN</td>\n",
       "      <td>59</td>\n",
       "      <td>3</td>\n",
       "      <td>LUMI</td>\n",
       "      <td>HPE Cray EX235a, AMD Optimized 3rd Generation ...</td>\n",
       "      <td>EuroHPC/CSC</td>\n",
       "      <td>HPE</td>\n",
       "      <td>Finland</td>\n",
       "      <td>2022</td>\n",
       "      <td>...</td>\n",
       "      <td>AMD Instinct MI250X</td>\n",
       "      <td>64</td>\n",
       "      <td>AMD Milan</td>\n",
       "      <td>HPE Cray EX235a</td>\n",
       "      <td>HPE Cray EX</td>\n",
       "      <td>Gigabit Ethernet</td>\n",
       "      <td>Slingshot-11</td>\n",
       "      <td>Europe</td>\n",
       "      <td>50908</td>\n",
       "      <td>180048</td>\n",
       "    </tr>\n",
       "    <tr>\n",
       "      <th>3</th>\n",
       "      <td>4</td>\n",
       "      <td>2.0</td>\n",
       "      <td>51</td>\n",
       "      <td>1</td>\n",
       "      <td>Summit</td>\n",
       "      <td>IBM Power System AC922, IBM POWER9 22C 3.07GHz...</td>\n",
       "      <td>DOE/SC/Oak Ridge National Laboratory</td>\n",
       "      <td>IBM</td>\n",
       "      <td>United States</td>\n",
       "      <td>2018</td>\n",
       "      <td>...</td>\n",
       "      <td>NVIDIA Volta GV100</td>\n",
       "      <td>22</td>\n",
       "      <td>IBM POWER9</td>\n",
       "      <td>IBM Power System AC922</td>\n",
       "      <td>IBM Power Systems</td>\n",
       "      <td>Infiniband</td>\n",
       "      <td>Dual-rail Mellanox EDR Infiniband</td>\n",
       "      <td>North America</td>\n",
       "      <td>48553</td>\n",
       "      <td>179397</td>\n",
       "    </tr>\n",
       "    <tr>\n",
       "      <th>4</th>\n",
       "      <td>5</td>\n",
       "      <td>3.0</td>\n",
       "      <td>51</td>\n",
       "      <td>3</td>\n",
       "      <td>Sierra</td>\n",
       "      <td>IBM Power System AC922, IBM POWER9 22C 3.1GHz,...</td>\n",
       "      <td>DOE/NNSA/LLNL</td>\n",
       "      <td>IBM / NVIDIA / Mellanox</td>\n",
       "      <td>United States</td>\n",
       "      <td>2018</td>\n",
       "      <td>...</td>\n",
       "      <td>NVIDIA Volta GV100</td>\n",
       "      <td>22</td>\n",
       "      <td>IBM POWER9</td>\n",
       "      <td>IBM Power System AC922</td>\n",
       "      <td>IBM Power Systems</td>\n",
       "      <td>Infiniband</td>\n",
       "      <td>Dual-rail Mellanox EDR Infiniband</td>\n",
       "      <td>North America</td>\n",
       "      <td>49763</td>\n",
       "      <td>179398</td>\n",
       "    </tr>\n",
       "  </tbody>\n",
       "</table>\n",
       "<p>5 rows × 38 columns</p>\n",
       "</div>"
      ],
      "text/plain": [
       "   Rank  Previous Rank  First Appearance  First Rank                  Name  \\\n",
       "0     1            NaN                59           1              Frontier   \n",
       "1     2            1.0                55           1  Supercomputer Fugaku   \n",
       "2     3            NaN                59           3                  LUMI   \n",
       "3     4            2.0                51           1                Summit   \n",
       "4     5            3.0                51           3                Sierra   \n",
       "\n",
       "                                            Computer  \\\n",
       "0  HPE Cray EX235a, AMD Optimized 3rd Generation ...   \n",
       "1  Supercomputer Fugaku, A64FX 48C 2.2GHz, Tofu i...   \n",
       "2  HPE Cray EX235a, AMD Optimized 3rd Generation ...   \n",
       "3  IBM Power System AC922, IBM POWER9 22C 3.07GHz...   \n",
       "4  IBM Power System AC922, IBM POWER9 22C 3.1GHz,...   \n",
       "\n",
       "                                     Site             Manufacturer  \\\n",
       "0    DOE/SC/Oak Ridge National Laboratory                      HPE   \n",
       "1  RIKEN Center for Computational Science                  Fujitsu   \n",
       "2                             EuroHPC/CSC                      HPE   \n",
       "3    DOE/SC/Oak Ridge National Laboratory                      IBM   \n",
       "4                           DOE/NNSA/LLNL  IBM / NVIDIA / Mellanox   \n",
       "\n",
       "         Country  Year  ... Accelerator/Co-Processor  Cores per Socket  \\\n",
       "0  United States  2021  ...      AMD Instinct MI250X                64   \n",
       "1          Japan  2020  ...                     None                48   \n",
       "2        Finland  2022  ...      AMD Instinct MI250X                64   \n",
       "3  United States  2018  ...       NVIDIA Volta GV100                22   \n",
       "4  United States  2018  ...       NVIDIA Volta GV100                22   \n",
       "\n",
       "   Processor Generation            System Model       System Family  \\\n",
       "0             AMD Milan         HPE Cray EX235a         HPE Cray EX   \n",
       "1         Fujitsu A64FX    Supercomputer Fugaku     Fujitsu Cluster   \n",
       "2             AMD Milan         HPE Cray EX235a         HPE Cray EX   \n",
       "3            IBM POWER9  IBM Power System AC922   IBM Power Systems   \n",
       "4            IBM POWER9  IBM Power System AC922   IBM Power Systems   \n",
       "\n",
       "   Interconnect Family                       Interconnect      Continent  \\\n",
       "0     Gigabit Ethernet                       Slingshot-11  North America   \n",
       "1  Proprietary Network                Tofu interconnect D           Asia   \n",
       "2     Gigabit Ethernet                       Slingshot-11         Europe   \n",
       "3           Infiniband  Dual-rail Mellanox EDR Infiniband  North America   \n",
       "4           Infiniband  Dual-rail Mellanox EDR Infiniband  North America   \n",
       "\n",
       "   Site ID System ID  \n",
       "0    48553    180047  \n",
       "1    50831    179807  \n",
       "2    50908    180048  \n",
       "3    48553    179397  \n",
       "4    49763    179398  \n",
       "\n",
       "[5 rows x 38 columns]"
      ]
     },
     "execution_count": 17,
     "metadata": {},
     "output_type": "execute_result"
    }
   ],
   "source": [
    "top500_df = pd.read_excel('TOP500_202206.xlsx')\n",
    "top500_df.head()"
   ]
  },
  {
   "cell_type": "code",
   "execution_count": 18,
   "id": "d9d3307a",
   "metadata": {},
   "outputs": [
    {
     "data": {
      "text/plain": [
       "Index(['Rank', 'Previous Rank', 'First Appearance', 'First Rank', 'Name',\n",
       "       'Computer', 'Site', 'Manufacturer', 'Country', 'Year', 'Segment',\n",
       "       'Total Cores', 'Accelerator/Co-Processor Cores', 'Rmax [TFlop/s]',\n",
       "       'Rpeak [TFlop/s]', 'Nmax', 'Nhalf', 'HPCG [TFlop/s]', 'Power (kW)',\n",
       "       'Power Source', 'Energy Efficiency [GFlops/Watts]', 'Memory',\n",
       "       'Architecture', 'Processor', 'Processor Technology',\n",
       "       'Processor Speed (MHz)', 'Operating System', 'OS Family',\n",
       "       'Accelerator/Co-Processor', 'Cores per Socket', 'Processor Generation',\n",
       "       'System Model', 'System Family', 'Interconnect Family', 'Interconnect',\n",
       "       'Continent', 'Site ID', 'System ID'],\n",
       "      dtype='object')"
      ]
     },
     "execution_count": 18,
     "metadata": {},
     "output_type": "execute_result"
    }
   ],
   "source": [
    "top500_df.columns"
   ]
  },
  {
   "cell_type": "markdown",
   "id": "b1afff2d",
   "metadata": {},
   "source": [
    "Нас интересует признак 'Power (kW)' - это электропотребление системы в КВ (видимо в час). Мы рассматриваем мировое потребление за год, поэтому будем умножать на 365 дней и на 24 часа. Еще умножим на 1000, чтобы привести к одному порядку."
   ]
  },
  {
   "cell_type": "code",
   "execution_count": 19,
   "id": "9b3063aa",
   "metadata": {},
   "outputs": [
    {
     "data": {
      "text/plain": [
       "count      191.000000\n",
       "mean      1782.651571\n",
       "std       3496.747991\n",
       "min         53.290000\n",
       "25%        511.770000\n",
       "50%        835.000000\n",
       "75%       1466.890000\n",
       "max      29899.230000\n",
       "Name: Power (kW), dtype: float64"
      ]
     },
     "execution_count": 19,
     "metadata": {},
     "output_type": "execute_result"
    }
   ],
   "source": [
    "top500_df['Power (kW)'].describe()"
   ]
  },
  {
   "cell_type": "markdown",
   "id": "0c4cd9d9",
   "metadata": {},
   "source": [
    "Много пропущенных значений. Заполним их средним значением."
   ]
  },
  {
   "cell_type": "code",
   "execution_count": 20,
   "id": "30ed16cb",
   "metadata": {},
   "outputs": [
    {
     "data": {
      "text/plain": [
       "count      500.000000\n",
       "mean      1782.651571\n",
       "std       2157.699007\n",
       "min         53.290000\n",
       "25%       1294.720000\n",
       "50%       1782.651571\n",
       "75%       1782.651571\n",
       "max      29899.230000\n",
       "Name: Power (kW), dtype: float64"
      ]
     },
     "execution_count": 20,
     "metadata": {},
     "output_type": "execute_result"
    }
   ],
   "source": [
    "top500_df['Power (kW)'] = top500_df['Power (kW)'].fillna(top500_df['Power (kW)'].mean())\n",
    "top500_df['Power (kW)'].describe()"
   ]
  },
  {
   "cell_type": "code",
   "execution_count": 21,
   "id": "91295c41",
   "metadata": {},
   "outputs": [
    {
     "name": "stdout",
     "output_type": "stream",
     "text": [
      "Все компьютеры из top500 потребляют за год 7808013879581.152 W\n"
     ]
    }
   ],
   "source": [
    "top500_electricity_consumption = (top500_df['Power (kW)'].sum()) * 24 * 365 * 1000\n",
    "print(f'Все компьютеры из top500 потребляют за год {top500_electricity_consumption} W')"
   ]
  },
  {
   "cell_type": "code",
   "execution_count": 22,
   "id": "3023ff80",
   "metadata": {},
   "outputs": [
    {
     "name": "stdout",
     "output_type": "stream",
     "text": [
      "Всего в 2020 году в мире было произведено 2.68232e+16 W\n"
     ]
    }
   ],
   "source": [
    "print(f'Всего в 2020 году в мире было произведено {world_electricity_production} W')"
   ]
  },
  {
   "cell_type": "code",
   "execution_count": 23,
   "id": "49cec561",
   "metadata": {},
   "outputs": [
    {
     "name": "stdout",
     "output_type": "stream",
     "text": [
      "Процент всего производимого на Земле электричества, который потребляют все компьютеры из top500 = 0.029%\n"
     ]
    }
   ],
   "source": [
    "result = 100 * top500_electricity_consumption / world_electricity_production\n",
    "print(f'Процент всего производимого на Земле электричества, который потребляют все компьютеры из top500 = {result:.2}%')"
   ]
  },
  {
   "cell_type": "markdown",
   "id": "b709fc42",
   "metadata": {},
   "source": [
    "#### Ответ: компьютеры из top500 в 2022 потребляют около 0.03% всего производимого в мире электричества(по данным 2020 года)."
   ]
  }
 ],
 "metadata": {
  "kernelspec": {
   "display_name": "Python 3 (ipykernel)",
   "language": "python",
   "name": "python3"
  },
  "language_info": {
   "codemirror_mode": {
    "name": "ipython",
    "version": 3
   },
   "file_extension": ".py",
   "mimetype": "text/x-python",
   "name": "python",
   "nbconvert_exporter": "python",
   "pygments_lexer": "ipython3",
   "version": "3.10.4"
  }
 },
 "nbformat": 4,
 "nbformat_minor": 5
}
